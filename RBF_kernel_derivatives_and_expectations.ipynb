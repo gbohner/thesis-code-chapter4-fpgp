{
 "cells": [
  {
   "cell_type": "code",
   "execution_count": 1,
   "metadata": {},
   "outputs": [
    {
     "name": "stderr",
     "output_type": "stream",
     "text": [
      "/nfs/nhome/live/gbohner/anaconda2/lib/python2.7/site-packages/matplotlib/font_manager.py:273: UserWarning:\n",
      "\n",
      "Matplotlib is building the font cache using fc-list. This may take a moment.\n",
      "\n"
     ]
    },
    {
     "data": {
      "text/html": [
       "<script>requirejs.config({paths: { 'plotly': ['https://cdn.plot.ly/plotly-latest.min']},});if(!window.Plotly) {{require(['plotly'],function(plotly) {window.Plotly=plotly;});}}</script>"
      ],
      "text/vnd.plotly.v1+html": [
       "<script>requirejs.config({paths: { 'plotly': ['https://cdn.plot.ly/plotly-latest.min']},});if(!window.Plotly) {{require(['plotly'],function(plotly) {window.Plotly=plotly;});}}</script>"
      ]
     },
     "metadata": {},
     "output_type": "display_data"
    }
   ],
   "source": [
    "import autograd.numpy as np\n",
    "import autograd.scipy as scipy\n",
    "# import numpy as np\n",
    "# import scipy\n",
    "import scipy.linalg\n",
    "import scipy.cluster\n",
    "import scipy.stats\n",
    "from autograd import grad, elementwise_grad, jacobian, hessian, value_and_grad\n",
    "from collections import OrderedDict\n",
    "import random\n",
    "\n",
    "import plotly\n",
    "from plotly.offline import iplot as plt\n",
    "from plotly import graph_objs as plt_type\n",
    "plotly.offline.init_notebook_mode(connected=True)\n",
    "\n",
    "from IPython.core.debugger import set_trace\n",
    "\n"
   ]
  },
  {
   "cell_type": "markdown",
   "metadata": {},
   "source": [
    "# Kernel function + derivatives"
   ]
  },
  {
   "cell_type": "code",
   "execution_count": 2,
   "metadata": {},
   "outputs": [],
   "source": [
    "def square_dist(x, x2=None, lengthscales=None):\n",
    "    if lengthscales is None:\n",
    "        lengthscales=np.ones((x.shape[0], 1))\n",
    "    \n",
    "    x = x / lengthscales\n",
    "    xs = np.sum(np.square(x), axis=0)\n",
    "    if x2 is None:\n",
    "        return -2 * np.dot(x.T, x) + \\\n",
    "               np.reshape(xs, (-1, 1)) + np.reshape(xs, (1, -1))\n",
    "    else:\n",
    "        x2 = x2 / lengthscales\n",
    "        x2s = np.sum(np.square(x2), axis=0)\n",
    "        return -2 * np.dot(x.T, x2) + \\\n",
    "               np.reshape(xs, (-1, 1)) + np.reshape(x2s, (1, -1))\n",
    "\n",
    "def euclid_dist(x, x2, lengthscales=None):\n",
    "    if lengthscales is None:\n",
    "        lengthscales=np.ones((x.shape[0], 1))\n",
    "    r2 = square_dist(x, x2, lengthscales)\n",
    "    return np.sqrt(r2 + 1e-12)\n",
    "\n",
    "def RBF(x, x2=None, lengthscales=None, kernel_variance=1.):\n",
    "    if x.shape[1]==0:\n",
    "        if (x2 is not None):\n",
    "            return np.zeros((0, x2.shape[1]))\n",
    "        else:\n",
    "            return np.zeros((0,0))\n",
    "    elif (x2 is not None):\n",
    "        if x2.shape[1]==0:\n",
    "            return np.zeros((x.shape[1], 0))\n",
    "    \n",
    "    if lengthscales is None:\n",
    "        lengthscales=np.ones((x.shape[0], 1))\n",
    "    \n",
    "    return kernel_variance*np.exp(-square_dist(x, x2, lengthscales=lengthscales)/2)\n",
    "\n",
    "def dRBF(x, x2=None, *args,**kwargs):\n",
    "    D = x.shape[0]\n",
    "    if x.shape[1]==0:\n",
    "        if (x2 is not None):\n",
    "            return np.zeros((0, x2.shape[1]))\n",
    "        else:\n",
    "            return np.zeros((0,0))\n",
    "    elif (x2 is not None):\n",
    "        if x2.shape[1]==0:\n",
    "            return np.zeros((D*x.shape[1], 0))\n",
    "        \n",
    "    if x2 is None:\n",
    "        x2 = x\n",
    "        \n",
    "    N_x1 = x.shape[1]\n",
    "    N_x2 = x2.shape[1]\n",
    "    \n",
    "#     # Get kernel matrix (N_x1 x N_x2)\n",
    "#     if 'Kxx' in kwargs:\n",
    "#         Kxx = kwargs['Kxx']\n",
    "#     else:\n",
    "#         Kxx = RBF(x, x2=x2, *args, **kwargs)\n",
    "    \n",
    "#     # Get pairwise distances per columns (D x N_x1 x N_x2)\n",
    "#     XminusX2_pairwise_diffs = x[:,:,None] - x2[:,:,None].swapaxes(1,2)\n",
    "    \n",
    "# #     # Elementwise version for testing\n",
    "# #     out = np.zeros((D,N_x1,N_x2))\n",
    "# #     for i in range(N_x1):\n",
    "# #         for j in range(N_x2):\n",
    "# #             out[:,i,j] = -(1./np.squeeze(lengthscales**2))*(x[:,i]-x2[:,j]) *Kxx[i,j]\n",
    "    \n",
    "#     out = - (1./(np.expand_dims(lengthscales**2,axis=2))) * ( XminusX2_pairwise_diffs * np.expand_dims(Kxx, axis=0) );\n",
    "#     # We want to stack it to 2D to have shape (D*N_x1,  N_x2)\n",
    "#     return np.reshape(out, (D*N_x1,N_x2), order='F')\n",
    "\n",
    "    ### There is some discrepency here between the autograd dRBF and the above manual one, Test later?\n",
    "    # The jacobian returns a shape\n",
    "    # (N_x1, N_x2, D, 1)\n",
    "    jRBF = jacobian(RBF)\n",
    "    gradRBF = np.concatenate([jRBF(x[:,i:(i+1)], x2, *args, **kwargs) for i in range(N_x1)], axis=0)\n",
    "    # For every x1 input point, compute a 1xN_x2xD jacobian, then stack them by point getting N_x1, N_x2, D, 1\n",
    "    \n",
    "    # We want to stack it to 2D to have shape \n",
    "    # (D*N_x1,  N_x2)\n",
    "    \n",
    "    # Here the derivative is with respect to the first argument, and it is ANTI-SYMMETRIC (Transpose -> minus sign)\n",
    "    return np.reshape(gradRBF.swapaxes(1,2).swapaxes(0,1), (D*N_x1, -1), order='F')\n",
    "    \n",
    "    \n",
    "def ddRBF(x, x2=None, *args, **kwargs):\n",
    "    D = x.shape[0]\n",
    "    if x.shape[1]==0:\n",
    "        if (x2 is not None):\n",
    "            return np.zeros((0, D*x2.shape[1]))\n",
    "        else:\n",
    "            return np.zeros((0,0))\n",
    "    elif (x2 is not None):\n",
    "        if x2.shape[1]==0:\n",
    "            return np.zeros((D*x.shape[1], 0))\n",
    "        \n",
    "    if x2 is None:\n",
    "        x2 = x\n",
    "    \n",
    "    N_x1 = x.shape[1]\n",
    "    N_x2 = x2.shape[1]\n",
    "    \n",
    "#     # Get kernel matrix (N_x1 x N_x2)\n",
    "#     if 'Kxx' in kwargs:\n",
    "#         Kxx = kwargs['Kxx']\n",
    "#     else:\n",
    "#         Kxx = RBF(x, x2=x2, *args, **kwargs)\n",
    "        \n",
    "#     # Get pairwise distances per columns (D x N_x1 x N_x2)\n",
    "#     XminusX2_pairwise_diffs = x[:,:,None] - x2[:,:,None].swapaxes(1,2)\n",
    "    \n",
    "#     XminusX2_pairwise_diffs_rescaled = (1./(lengthscales**2)[:,:,None])*XminusX2_pairwise_diffs\n",
    "    \n",
    "#     # Get the outer product of pairwise distance per instance (D x D x N_x1 x N_x2)\n",
    "#     XminusX2_pairwise_diffs_rescaled_outer = (np.expand_dims(XminusX2_pairwise_diffs_rescaled,axis=1)\n",
    "#                                         * np.expand_dims(XminusX2_pairwise_diffs_rescaled,axis=0)\n",
    "#                                      )\n",
    "    \n",
    "#     lengthscales_times_id = np.diag(np.squeeze(1./(lengthscales**2)))[:,:,None,None]\n",
    "        \n",
    "    \n",
    "    \n",
    "#     out = ((lengthscales_times_id - XminusX2_pairwise_diffs_rescaled_outer) \n",
    "#            * np.expand_dims(np.expand_dims(Kxx, axis=0),axis=0)\n",
    "#            )\n",
    "    \n",
    "#     # Out has a shape of D x D x N_x1 x N_x2\n",
    "#     # We want to stack it to 2D to have shape (D*N_x1, D*N_x2)\n",
    "#     return np.reshape(out.swapaxes(1,2), (D*N_x1, D*N_x2), order='F')\n",
    "    \n",
    "    # The hessian defined here returns a shape\n",
    "    # (D*N_x1, N_x2, D, 1)\n",
    "    hRBF = jacobian(dRBF, argnum=1)\n",
    "    \n",
    "    hessRBF = np.concatenate([hRBF(x, x2[:,j:(j+1)], *args, **kwargs) for j in range(N_x2)], axis=1)\n",
    "    \n",
    "    # We want to stack it to 2D to have shape \n",
    "    # (D*N_x1, D*N_x2)\n",
    "    \n",
    "    return np.reshape(hessRBF.swapaxes(1,2), (D*N_x1, -1), order='F')\n"
   ]
  },
  {
   "cell_type": "markdown",
   "metadata": {},
   "source": [
    "### Expected kernels for noisy input\n",
    "Compute various kernel expectations of the RBF kernel written above, \n",
    "given the first kernel argument is a single Dx1 vector, given by mean $\\mu$ (Dx1) and diagonal variance $\\sigma$ (Dx1)\n",
    "\n",
    "Note: Lengthscales are sqrt(gaussian_covariance)"
   ]
  },
  {
   "cell_type": "code",
   "execution_count": 14,
   "metadata": {},
   "outputs": [
    {
     "data": {
      "text/plain": [
       "(30, 3)"
      ]
     },
     "execution_count": 14,
     "metadata": {},
     "output_type": "execute_result"
    }
   ],
   "source": [
    "dRBF(x2,x1).shape"
   ]
  },
  {
   "cell_type": "code",
   "execution_count": 15,
   "metadata": {},
   "outputs": [
    {
     "data": {
      "text/plain": [
       "(15, 6)"
      ]
     },
     "execution_count": 15,
     "metadata": {},
     "output_type": "execute_result"
    }
   ],
   "source": [
    "dRBF(x1,x2).shape"
   ]
  },
  {
   "cell_type": "code",
   "execution_count": 18,
   "metadata": {},
   "outputs": [
    {
     "data": {
      "text/plain": [
       "(5, 6)"
      ]
     },
     "execution_count": 18,
     "metadata": {},
     "output_type": "execute_result"
    }
   ],
   "source": [
    "x1 = np.random.randn(5,1)\n",
    "x2 = np.random.randn(5,6)\n",
    "dRBF(x1,x2).shape"
   ]
  },
  {
   "cell_type": "code",
   "execution_count": 31,
   "metadata": {},
   "outputs": [
    {
     "data": {
      "text/plain": [
       "True"
      ]
     },
     "execution_count": 31,
     "metadata": {},
     "output_type": "execute_result"
    }
   ],
   "source": [
    "np.allclose(dRBF(x2,x1).reshape(6,5).transpose() , (-dRBF(x1,x2)))"
   ]
  },
  {
   "cell_type": "code",
   "execution_count": 3,
   "metadata": {},
   "outputs": [],
   "source": [
    "# # Testing noisy (with little noise) vs non-noisy versions\n",
    "mu = np.array([[0], [[0]]])\n",
    "sigma = np.array([[1e-1], [1e-1]])\n",
    "lengthscales = np.array([[1.0], [1.0]])\n",
    "kernel_variance = 1.0\n",
    "X = np.concatenate([np.arange(-5,5,0.5)[:,None].T, np.arange(-5,5,0.5)[:,None].T])\n"
   ]
  },
  {
   "cell_type": "code",
   "execution_count": 5,
   "metadata": {},
   "outputs": [],
   "source": [
    "\n",
    "def RBF_eK(mu, sigma, X, lengthscales=None, kernel_variance=1):\n",
    "    \"\"\"\n",
    "    x ~ N(mu, sigma), Dx1\n",
    "    X is DxM\n",
    "    Return E_x [ k(x, X)], a 1 x M array\n",
    "    \"\"\"\n",
    "    if X.shape[1]==0:\n",
    "        return np.zeros((1, 0))\n",
    "    \n",
    "    if lengthscales is None:\n",
    "        lengthscales=np.ones((mu.shape[0], 1))\n",
    "    return RBF(x=mu, \n",
    "               x2=X, \n",
    "               lengthscales=np.sqrt(lengthscales**2 + sigma), \n",
    "               kernel_variance=kernel_variance*np.sqrt(np.prod(lengthscales**2)/np.prod(lengthscales**2 + sigma))\n",
    "              )\n"
   ]
  },
  {
   "cell_type": "code",
   "execution_count": 9,
   "metadata": {},
   "outputs": [
    {
     "name": "stdout",
     "output_type": "stream",
     "text": [
      "[[0.7998969  1.31717586 1.31880703]\n",
      " [0.53062468 0.87811724 0.88355719]]\n",
      "[[0.80289214 1.32374535 1.32374535]\n",
      " [0.53526143 0.8824969  0.8824969 ]]\n"
     ]
    }
   ],
   "source": [
    "def RBF_exK(mu, sigma, X, lengthscales=None, kernel_variance=1, eK=None):\n",
    "    \"\"\"\n",
    "    x ~ N(mu, sigma), Dx1\n",
    "    X is DxM\n",
    "    Return E_x [ x * k(x, X)], a D x M array\n",
    "    \"\"\"\n",
    "    \n",
    "    if X.shape[1]==0:\n",
    "        return np.zeros((x.shape[0], 0))\n",
    "    \n",
    "    if lengthscales is None:\n",
    "        lengthscales=np.ones((mu.shape[0], 1))\n",
    "        \n",
    "    if eK is None:\n",
    "        eK = RBF_eK(mu, sigma, X, lengthscales=lengthscales, kernel_variance=kernel_variance)\n",
    "    \n",
    "    mean_gauss = (X/(lengthscales**2) + mu/sigma)/(1/(lengthscales**2)+(1/sigma))\n",
    "    \n",
    "    return eK*mean_gauss\n",
    "\n",
    "print(RBF_exK(np.array([[1.5], [[1]]]), np.array([[1e-20], [1e-2]]), X[:,11:14]))\n",
    "\n",
    "print(np.array([[1.5], [[1]]]) * RBF(np.array([[1.5], [[1]]]), X[:,11:14]))"
   ]
  },
  {
   "cell_type": "code",
   "execution_count": null,
   "metadata": {},
   "outputs": [],
   "source": [
    "def RBF_edK(mu, sigma, X, lengthscales=None, kernel_variance=1, eK=None, exK=None):\n",
    "    \"\"\"\n",
    "    x ~ N(mu, sigma), Dx1\n",
    "    X is DxM\n",
    "    Return E_x [ dk(x, X) ], an 1 x (D x M) array\n",
    "    We want it differentiated with respect to the second argument X -> No minus sign (minus signs cancel)\n",
    "    \"\"\"\n",
    "    if X.shape[1]==0:\n",
    "        return np.zeros((1, 0))\n",
    "    \n",
    "    if lengthscales is None:\n",
    "        lengthscales=np.ones((mu.shape[0], 1))\n",
    "        \n",
    "    if eK is None:\n",
    "        eK = RBF_eK(mu=mu, sigma=sigma, X=X, lengthscales=lengthscales, kernel_variance=kernel_variance)\n",
    "    \n",
    "    if exK is None:\n",
    "        exK = RBF_exK(mu=mu, sigma=sigma, X=X, lengthscales=lengthscales, kernel_variance=kernel_variance)\n",
    "    \n",
    "    \n",
    "    return np.reshape((exK - X * eK)/(lengthscales**2),(1,-1), order='F')"
   ]
  },
  {
   "cell_type": "code",
   "execution_count": 11,
   "metadata": {},
   "outputs": [],
   "source": [
    "def RBF_eKK(mu, sigma, X, lengthscales=None, kernel_variance=1):\n",
    "    \"\"\"\n",
    "    x ~ N(mu, sigma), Dx1\n",
    "    X is DxM\n",
    "    Return E_x [k(X, x) * k(x, X) ], an M x M array\n",
    "    \"\"\"\n",
    "    if X.shape[1]==0:\n",
    "        return np.zeros((0,0))\n",
    "    \n",
    "    if lengthscales is None:\n",
    "        lengthscales=np.ones((mu.shape[0], 1))\n",
    "        \n",
    "        \n",
    "    kXX_scaled = RBF(\n",
    "                       x=X, \n",
    "                       x2=X, \n",
    "                       lengthscales=np.sqrt(2*(lengthscales**2)), \n",
    "                       kernel_variance=kernel_variance*np.sqrt(np.prod(lengthscales**2)/np.prod(2*(lengthscales**2)))\n",
    "                    )\n",
    "    \n",
    "    X_pairwise_sums = X[:,:,None] + X[:,:,None].swapaxes(1,2)\n",
    "\n",
    "    kXpX_mu = RBF(\n",
    "                       x=np.reshape(X_pairwise_sums/2,(mu.shape[0], -1), order='F'), \n",
    "                       x2=mu, \n",
    "                       lengthscales=np.sqrt((lengthscales**2)/2 + sigma), \n",
    "                       kernel_variance=kernel_variance*np.sqrt(np.prod(lengthscales**2)/np.prod((lengthscales**2)/2 + sigma))\n",
    "                    )\n",
    "    \n",
    "    out = kXX_scaled * np.reshape(kXpX_mu, (X.shape[1], X.shape[1]), order='F')\n",
    "    \n",
    "    # Due to numerical instability, this is not always symmetric, fix:\n",
    "    out = (out + out.T) / 2.\n",
    "    \n",
    "    return out"
   ]
  },
  {
   "cell_type": "code",
   "execution_count": 12,
   "metadata": {},
   "outputs": [
    {
     "data": {
      "text/plain": [
       "array([[-6.06181771e-14, -1.36335387e-13, -1.21236354e-13],\n",
       "       [-1.36335387e-13, -2.00062189e-13, -1.36335387e-13],\n",
       "       [-1.21236354e-13, -1.36335387e-13, -6.06181771e-14]])"
      ]
     },
     "execution_count": 12,
     "metadata": {},
     "output_type": "execute_result"
    }
   ],
   "source": [
    "# # Testing noisy expected kernel outer product vs noiseless \n",
    "RBF_eKK(np.array([[0], [[0]]]), np.array([[1e-13], [1e-13]]), X[:,9:12]) - \\\n",
    "    RBF(np.array([[0], [[0]]]), X[:,9:12]) * RBF(np.array([[0], [[0]]]), X[:,9:12]).T"
   ]
  },
  {
   "cell_type": "code",
   "execution_count": 13,
   "metadata": {},
   "outputs": [],
   "source": [
    "def RBF_exKK(mu, sigma, X, lengthscales=None, kernel_variance=1, eKK=None):\n",
    "    \"\"\"\n",
    "    x ~ N(mu, sigma), Dx1\n",
    "    X is DxM\n",
    "    Return E_x [x * k(X, x) * k(x, X) ], a D x M x M array\n",
    "    \"\"\"\n",
    "    if X.shape[1]==0:\n",
    "        return np.zeros((x.shape[0], 0,0))\n",
    "    \n",
    "    if lengthscales is None:\n",
    "        lengthscales=np.ones((mu.shape[0], 1))\n",
    "        \n",
    "    \n",
    "    # M x M array\n",
    "    if eKK is None:\n",
    "        eKK = RBF_eKK(mu=mu, sigma=sigma, X=X, lengthscales=lengthscales, kernel_variance=kernel_variance)\n",
    "    \n",
    "    X_pairwise_sums = X[:,:,None] + X[:,:,None].swapaxes(1,2)\n",
    "\n",
    "    # D x M x M array\n",
    "    mean_gauss = ((X_pairwise_sums/2)/(((lengthscales**2)/2)[:,:,None]) + (mu/sigma)[:,:,None])/(\n",
    "                                                (1/((lengthscales**2)/2)+(1/sigma))[:,:,None])\n",
    "    \n",
    "    \n",
    "    return eKK[:,:,None].swapaxes(1,2).swapaxes(0,1) * mean_gauss"
   ]
  },
  {
   "cell_type": "code",
   "execution_count": 18,
   "metadata": {},
   "outputs": [],
   "source": [
    "# Testing noisy expected kernel outer product"
   ]
  },
  {
   "cell_type": "code",
   "execution_count": 19,
   "metadata": {},
   "outputs": [
    {
     "data": {
      "text/plain": [
       "array([[[0.011109  , 0.03877421, 0.082085  ],\n",
       "        [0.03877421, 0.13533528, 0.2865048 ],\n",
       "        [0.082085  , 0.2865048 , 0.60653066]],\n",
       "\n",
       "       [[0.011109  , 0.03877421, 0.082085  ],\n",
       "        [0.03877421, 0.13533528, 0.2865048 ],\n",
       "        [0.082085  , 0.2865048 , 0.60653066]]])"
      ]
     },
     "execution_count": 19,
     "metadata": {},
     "output_type": "execute_result"
    }
   ],
   "source": [
    "RBF_exKK(np.array([[1], [[1]]]), np.array([[1e-13], [1e-13]]), X[:,9:12])"
   ]
  },
  {
   "cell_type": "code",
   "execution_count": 20,
   "metadata": {},
   "outputs": [
    {
     "data": {
      "text/plain": [
       "array([[0.011109  , 0.03877421, 0.082085  ],\n",
       "       [0.03877421, 0.13533528, 0.2865048 ],\n",
       "       [0.082085  , 0.2865048 , 0.60653066]])"
      ]
     },
     "execution_count": 20,
     "metadata": {},
     "output_type": "execute_result"
    }
   ],
   "source": [
    "RBF(np.array([[1], [[1]]]), X[:,9:12]) * RBF(np.array([[1], [[1]]]), X[:,9:12]).T"
   ]
  },
  {
   "cell_type": "code",
   "execution_count": 21,
   "metadata": {},
   "outputs": [],
   "source": [
    "def RBF_exxKK(mu, sigma, X, lengthscales=None, kernel_variance=1, eKK=None):\n",
    "    \"\"\"\n",
    "    x ~ N(mu, sigma), Dx1\n",
    "    X is DxM\n",
    "    Return E_x [ (x*x.T) * k(X, x) * k(x, X) ], a D x D x M x M array\n",
    "    \"\"\"\n",
    "    if X.shape[1]==0:\n",
    "        return np.zeros((x.shape[0], x.shape[0], 0,0))\n",
    "    \n",
    "    if lengthscales is None:\n",
    "        lengthscales=np.ones((mu.shape[0], 1))\n",
    "        \n",
    "    \n",
    "    # M x M array\n",
    "    if eKK is None:\n",
    "        eKK = RBF_eKK(mu=mu, sigma=sigma, X=X, lengthscales=lengthscales, kernel_variance=kernel_variance)\n",
    "    \n",
    "    # D x D array\n",
    "    var_gauss = 1/(1/((lengthscales**2)/2)+(1/sigma))\n",
    "    \n",
    "    \n",
    "    X_pairwise_sums = X[:,:,None] + X[:,:,None].swapaxes(1,2)\n",
    "\n",
    "    # D x M x M array\n",
    "    mean_gauss = ((X_pairwise_sums/2)/(((lengthscales**2)/2)[:,:,None]) + (mu/sigma)[:,:,None])*(var_gauss[:,:,None])\n",
    "    \n",
    "    # D x D x M x M array\n",
    "    mean_outer = np.expand_dims(mean_gauss, axis=1) * np.expand_dims(mean_gauss, axis=0)\n",
    "    \n",
    "    return np.expand_dims(np.expand_dims(eKK, axis=0), axis=0) * (var_gauss[:,:,None,None] + mean_outer)\n",
    "\n"
   ]
  },
  {
   "cell_type": "code",
   "execution_count": 22,
   "metadata": {},
   "outputs": [
    {
     "data": {
      "text/plain": [
       "array([[0.59466685, 0.76542226, 0.60046769],\n",
       "       [0.76542226, 0.99000384, 0.78043018],\n",
       "       [0.60046769, 0.78043018, 0.61821573]])"
      ]
     },
     "execution_count": 22,
     "metadata": {},
     "output_type": "execute_result"
    }
   ],
   "source": [
    "# # Testing noisy expected kernel outer product\n",
    "RBF_exxKK(np.array([[1], [[1]]]), np.array([[1e-2], [1e-2]]), X[:,11:14])[0,1,:,:]"
   ]
  },
  {
   "cell_type": "code",
   "execution_count": 23,
   "metadata": {},
   "outputs": [
    {
     "data": {
      "text/plain": [
       "array([[0.60653066, 0.77880078, 0.60653066],\n",
       "       [0.77880078, 1.        , 0.77880078],\n",
       "       [0.60653066, 0.77880078, 0.60653066]])"
      ]
     },
     "execution_count": 23,
     "metadata": {},
     "output_type": "execute_result"
    }
   ],
   "source": [
    "RBF(np.array([[1], [[1]]]), X[:,11:14]) * RBF(np.array([[1], [[1]]]), X[:,11:14]).T"
   ]
  },
  {
   "cell_type": "code",
   "execution_count": 26,
   "metadata": {},
   "outputs": [],
   "source": [
    "def RBF_eKdK(mu, sigma, X, lengthscales=None, kernel_variance=1, eKK=None, exKK=None):\n",
    "    \"\"\"\n",
    "    x ~ N(mu, sigma), Dx1\n",
    "    X is DxM\n",
    "    Return E_x [  k(X, x) * dk(x, X)  ], an M x (D x M) array\n",
    "    \"\"\"\n",
    "    \n",
    "    if X.shape[1]==0:\n",
    "        return np.zeros((0,0))\n",
    "    \n",
    "    if lengthscales is None:\n",
    "        lengthscales=np.ones((mu.shape[0], 1))\n",
    "        \n",
    "        \n",
    "        \n",
    "    # m1 x m2\n",
    "    if eKK is None:\n",
    "        eKK = RBF_eKK(mu=mu, sigma=sigma, X=X, lengthscales=lengthscales, kernel_variance=kernel_variance)\n",
    "        \n",
    "    # d x m1 x m2\n",
    "    if exKK is None:\n",
    "        exKK = RBF_exKK(mu=mu, sigma=sigma, X=X, lengthscales=lengthscales, kernel_variance=kernel_variance)    \n",
    "    \n",
    "    \n",
    "    # d x m1 x m2,\n",
    "    # As exKK naturally uses the first argument and\n",
    "    # X is the second argument in the derivative kernel, we should expand it, such that we iterate along m2 dimension    \n",
    "    eKdK = (exKK - np.expand_dims(X, axis=1) * np.expand_dims(eKK, axis=0))/((lengthscales**2)[:,:,None])\n",
    "       \n",
    "    # We then finally modify the order of axis and the dimensionality to get \n",
    "    # the expected m1 - d - m2 order with M x (DM) shape\n",
    "    \n",
    "    return np.reshape(eKdK.swapaxes(0,1), (X.shape[1], -1), order='F')"
   ]
  },
  {
   "cell_type": "code",
   "execution_count": 27,
   "metadata": {},
   "outputs": [
    {
     "data": {
      "text/plain": [
       "array([[-0.01021693, -0.00613016, -0.00129223, -0.00086149],\n",
       "       [-0.0029272 , -0.00175632, -0.00037023, -0.00024682]])"
      ]
     },
     "execution_count": 27,
     "metadata": {},
     "output_type": "execute_result"
    }
   ],
   "source": [
    "# Testing\n",
    "RBF_eKdK(np.array([[0], [[1]]]), np.array([[1e-20], [1e-20]]), X[:,13:17])[0:2,4:]\n",
    "\n"
   ]
  },
  {
   "cell_type": "code",
   "execution_count": 28,
   "metadata": {},
   "outputs": [
    {
     "data": {
      "text/plain": [
       "array([[-0.01021693, -0.00613016, -0.00129223, -0.00086149],\n",
       "       [-0.0029272 , -0.00175632, -0.00037023, -0.00024682]])"
      ]
     },
     "execution_count": 28,
     "metadata": {},
     "output_type": "execute_result"
    }
   ],
   "source": [
    "RBF(np.array([[0], [[1]]]), X[:,13:15]).T * np.reshape(dRBF(X[:,15:17], np.array([[0], [[1]]])),(-1), order='F').T"
   ]
  },
  {
   "cell_type": "code",
   "execution_count": 29,
   "metadata": {},
   "outputs": [],
   "source": [
    "def RBF_edKdK(mu, sigma, X, lengthscales=None, kernel_variance=1, eKK=None, exKK=None, exxKK=None):\n",
    "    \"\"\"\n",
    "    x ~ N(mu, sigma), Dx1\n",
    "    X is DxM\n",
    "    Return E_x [  dk(X, x) * dk(x, X)  ], a (D x M) x (D x M) array\n",
    "    \"\"\"\n",
    "    if X.shape[1]==0:\n",
    "        return np.zeros((0,0))\n",
    "    \n",
    "    if lengthscales is None:\n",
    "        lengthscales=np.ones((mu.shape[0], 1))\n",
    "            \n",
    "    # m1 x m2\n",
    "    if eKK is None:\n",
    "        eKK = RBF_eKK(mu=mu, sigma=sigma, X=X, lengthscales=lengthscales, kernel_variance=kernel_variance)\n",
    "    \n",
    "    # d1 x m1 x m2\n",
    "    if exKK is None:\n",
    "        exKK = RBF_exKK(mu=mu, sigma=sigma, X=X, lengthscales=lengthscales, kernel_variance=kernel_variance,\n",
    "                       eKK = eKK)\n",
    "    \n",
    "    # d1 x d2 x m1 x m2\n",
    "    if exxKK is None:\n",
    "        exxKK = RBF_exxKK(mu=mu, sigma=sigma, X=X, lengthscales=lengthscales, kernel_variance=kernel_variance,\n",
    "                        eKK = eKK)\n",
    "    \n",
    "    \n",
    "    \n",
    "    \n",
    "    edKdK = (exxKK # exKK\n",
    "        -1.0 * np.expand_dims(np.expand_dims(X, axis=2), axis=1) * np.expand_dims(exKK, axis=0)  # X[:,None,:,None]\n",
    "        -1.0 * np.expand_dims(np.expand_dims(X, axis=1), axis=0) * np.expand_dims(exKK, axis=1)  # X[None,:,None,:]\n",
    "        + np.expand_dims(np.expand_dims(X, axis=2), axis=1) * np.expand_dims(np.expand_dims(X, axis=1), axis=0) \n",
    "           * np.expand_dims(np.expand_dims(eKK, axis=0), axis=0) # X[:,None,:,None] * X[None,:,None,:] * eKK[None,None,:,:]\n",
    "    )\n",
    "    \n",
    "    # Divide with lengthscales appropriately\n",
    "    edKdK = edKdK / ((lengthscales.T**2)[:,:,None,None])\n",
    "    edKdK = edKdK / ((lengthscales**2)[:,:,None,None])\n",
    "    \n",
    "    # We then finally modify the order of axis and the dimensionality to get \n",
    "    # the expected m1 - d - m2 order with M x (DM) shape\n",
    "    \n",
    "    out = np.reshape(edKdK.swapaxes(1,2), (X.shape[0]*X.shape[1], X.shape[0]*X.shape[1]), order='F')\n",
    "    \n",
    "    # Due to numerical instability (TODO: Double check if really instab), this is not always symmetric, fix:\n",
    "    out = (out + out.T) / 2.\n",
    "    \n",
    "    return out"
   ]
  },
  {
   "cell_type": "code",
   "execution_count": 30,
   "metadata": {},
   "outputs": [
    {
     "data": {
      "text/plain": [
       "array([[0.        , 0.        , 0.        , 0.        , 0.        ,\n",
       "        0.        ],\n",
       "       [0.        , 0.1947002 , 0.11809164, 0.23618328, 0.08688697,\n",
       "        0.13033046],\n",
       "       [0.        , 0.11809164, 0.0716262 , 0.1432524 , 0.05269961,\n",
       "        0.07904942],\n",
       "       [0.        , 0.23618328, 0.1432524 , 0.2865048 , 0.10539922,\n",
       "        0.15809884],\n",
       "       [0.        , 0.08688697, 0.05269961, 0.10539922, 0.03877421,\n",
       "        0.05816131],\n",
       "       [0.        , 0.13033046, 0.07904942, 0.15809884, 0.05816131,\n",
       "        0.08724197]])"
      ]
     },
     "execution_count": 30,
     "metadata": {},
     "output_type": "execute_result"
    }
   ],
   "source": [
    "# Testing\n",
    "RBF_edKdK(np.array([[0.5], [[0]]]), np.array([[1e-20], [1e-20]]), X[:,11:14])"
   ]
  },
  {
   "cell_type": "code",
   "execution_count": 31,
   "metadata": {},
   "outputs": [
    {
     "data": {
      "text/plain": [
       "array([[0.        , 0.        , 0.        , 0.        , 0.        ,\n",
       "        0.        ],\n",
       "       [0.        , 0.1947002 , 0.11809164, 0.23618328, 0.08688697,\n",
       "        0.13033046],\n",
       "       [0.        , 0.11809164, 0.0716262 , 0.1432524 , 0.05269961,\n",
       "        0.07904942],\n",
       "       [0.        , 0.23618328, 0.1432524 , 0.2865048 , 0.10539922,\n",
       "        0.15809884],\n",
       "       [0.        , 0.08688697, 0.05269961, 0.10539922, 0.03877421,\n",
       "        0.05816131],\n",
       "       [0.        , 0.13033046, 0.07904942, 0.15809884, 0.05816131,\n",
       "        0.08724197]])"
      ]
     },
     "execution_count": 31,
     "metadata": {},
     "output_type": "execute_result"
    }
   ],
   "source": [
    "np.reshape(dRBF(np.array([[0.5], [[0]]]), X[:,11:14]),(-1,1), order='F') * np.reshape(dRBF(np.array([[0.5], [[0]]]), X[:,11:14]),(-1), order='F').T"
   ]
  },
  {
   "cell_type": "code",
   "execution_count": null,
   "metadata": {},
   "outputs": [],
   "source": [
    "\n",
    "\n",
    "\n",
    "\n",
    "# # Testing expected derivative kernel vs derivative kernel in 1D\n",
    "# xstar = np.arange(-5,5,0.5)\n",
    "\n",
    "# plots_by_var = []\n",
    "# for v in [0.01,1.0,2.0,3.0]:\n",
    "#     plots_by_var.append(\n",
    "#         plt_type.Scatter(x=np.squeeze(xstar), \n",
    "#                       y=np.squeeze(RBF_edK(np.array([[0]]),np.array([[v]]), xstar)), \n",
    "#                       mode='markers')\n",
    "#     )\n",
    "    \n",
    "\n",
    "# plots_by_var.append(\n",
    "#     plt_type.Scatter(x=np.squeeze(xstar), \n",
    "#                   y=np.squeeze(dRBF(np.atleast_2d(xstar) , np.array([[0]])).T), \n",
    "#                   mode='markers')\n",
    "#     )\n",
    "    \n",
    "# plt(plots_by_var)"
   ]
  }
 ],
 "metadata": {
  "kernelspec": {
   "display_name": "Python [conda env:anaconda2]",
   "language": "python",
   "name": "conda-env-anaconda2-py"
  },
  "language_info": {
   "codemirror_mode": {
    "name": "ipython",
    "version": 2
   },
   "file_extension": ".py",
   "mimetype": "text/x-python",
   "name": "python",
   "nbconvert_exporter": "python",
   "pygments_lexer": "ipython2",
   "version": "2.7.15"
  }
 },
 "nbformat": 4,
 "nbformat_minor": 2
}
